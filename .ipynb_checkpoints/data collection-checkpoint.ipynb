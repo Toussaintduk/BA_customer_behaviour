{
 "cells": [
  {
   "cell_type": "markdown",
   "id": "ce8b83e3-8c3f-4533-bcdb-261218aaf9f1",
   "metadata": {},
   "source": [
    "#### Data Collection\n",
    "in this phase we will collect the data form the airline Quality called SKytrax . \n",
    "we will colect that  data using web scraping techniques y using  `BeatifulSoup` python package "
   ]
  },
  {
   "cell_type": "code",
   "execution_count": 7,
   "id": "47b5811e-7a36-4a9e-9b7a-4bf22b9816c2",
   "metadata": {},
   "outputs": [],
   "source": [
    "# imports neccessary libaries\n",
    "\n",
    "import pandas as pd\n",
    "import numpy as np\n",
    "from bs4 import BeautifulSoup\n",
    "import requests"
   ]
  },
  {
   "cell_type": "code",
   "execution_count": 15,
   "id": "2cb8ff47-18f0-4933-b7f2-092d9b1af62e",
   "metadata": {},
   "outputs": [],
   "source": [
    "# create an empty list to collect all reviews\n",
    "reviews = []\n",
    "\n",
    "# create an empty list to correct ratings stars\n",
    "stars = []\n",
    "\n",
    "# create an empty list to collect the date\n",
    "dates = []\n",
    "\n",
    "# create an empty list to collect country  the reviewer\n",
    "country =[]"
   ]
  },
  {
   "cell_type": "code",
   "execution_count": 30,
   "id": "330bbc58-7456-4061-8d10-e57c9ed9d25a",
   "metadata": {},
   "outputs": [
    {
     "name": "stdout",
     "output_type": "stream",
     "text": [
      "Error on page 33\n",
      "Error on page 34\n",
      "Error on page 34\n"
     ]
    }
   ],
   "source": [
    "# Loop through the first 35 pages\n",
    "for i in range(1, 36):\n",
    "    # Request the page content\n",
    "    page = requests.get(f\"https://www.airlinequality.com/airline-reviews/british-airways/page/{i}/?sortby=post_date%3ADesc&pagesize=100\")\n",
    "    \n",
    "    # Parse the page content using html.parser\n",
    "    soup = BeautifulSoup(page.content, \"html.parser\")\n",
    "    \n",
    "    # Find all the review text content\n",
    "    for item in soup.find_all(\"div\", class_=\"text_content\"):\n",
    "        reviews.append(item.text.strip())\n",
    "    \n",
    "    # Find all the ratings\n",
    "    for item in soup.find_all(\"div\", class_=\"rating-10\"):\n",
    "        try:\n",
    "            stars.append(item.span.text)\n",
    "        except:\n",
    "            print(f'Error on page {i}')\n",
    "            stars.append('None')\n",
    "    \n",
    "    # Find all the dates\n",
    "    for item in soup.find_all(\"time\"):\n",
    "        dates.append(item.text.strip())\n",
    "    \n",
    "    # Find all the countries\n",
    "    for item in soup.find_all(\"h3\"):\n",
    "        country.append(item.span.next_sibling.text.strip(\" ()\"))\n",
    "\n",
    "# Print the first 5 entries as a sample"
   ]
  },
  {
   "cell_type": "code",
   "execution_count": 37,
   "id": "29e20870-786d-4928-a71c-303255f3e6ae",
   "metadata": {},
   "outputs": [
    {
     "data": {
      "text/plain": [
       "(7000, 7000, 7000, 7000)"
      ]
     },
     "execution_count": 37,
     "metadata": {},
     "output_type": "execute_result"
    }
   ],
   "source": [
    "# display the length of reviews and country\n",
    "len(reviews),len(country),len(dates),len(stars)"
   ]
  },
  {
   "cell_type": "code",
   "execution_count": 38,
   "id": "cadef125-80fb-42fd-8585-d93f31668ebe",
   "metadata": {},
   "outputs": [],
   "source": [
    "\n",
    "# Ensure all lists have the same length\n",
    "min_length = min(len(reviews), len(stars), len(dates), len(country))\n",
    "reviews = reviews[:min_length]\n",
    "stars = stars[:min_length]\n",
    "dates = dates[:min_length]\n",
    "country = country[:min_length]\n",
    "\n",
    "\n",
    "# create the df for those above list of data\n",
    "df = pd.DataFrame({'reviews':reviews,'Stars':stars,'date':dates,'country':country})"
   ]
  },
  {
   "cell_type": "code",
   "execution_count": 39,
   "id": "4f567bd5-b790-464e-ab0f-5694a173f226",
   "metadata": {},
   "outputs": [
    {
     "data": {
      "text/html": [
       "<div>\n",
       "<style scoped>\n",
       "    .dataframe tbody tr th:only-of-type {\n",
       "        vertical-align: middle;\n",
       "    }\n",
       "\n",
       "    .dataframe tbody tr th {\n",
       "        vertical-align: top;\n",
       "    }\n",
       "\n",
       "    .dataframe thead th {\n",
       "        text-align: right;\n",
       "    }\n",
       "</style>\n",
       "<table border=\"1\" class=\"dataframe\">\n",
       "  <thead>\n",
       "    <tr style=\"text-align: right;\">\n",
       "      <th></th>\n",
       "      <th>reviews</th>\n",
       "      <th>Stars</th>\n",
       "      <th>date</th>\n",
       "      <th>country</th>\n",
       "    </tr>\n",
       "  </thead>\n",
       "  <tbody>\n",
       "    <tr>\n",
       "      <th>0</th>\n",
       "      <td>✅ Trip Verified | British Airways new Club Sui...</td>\n",
       "      <td>\\n\\t\\t\\t\\t\\t\\t\\t\\t\\t\\t\\t\\t\\t5</td>\n",
       "      <td>23rd June 2024</td>\n",
       "      <td>(Canada)</td>\n",
       "    </tr>\n",
       "    <tr>\n",
       "      <th>1</th>\n",
       "      <td>✅ Trip Verified |  Four very pleasant, on time...</td>\n",
       "      <td>5</td>\n",
       "      <td>18th June 2024</td>\n",
       "      <td>(United Kingdom)</td>\n",
       "    </tr>\n",
       "    <tr>\n",
       "      <th>2</th>\n",
       "      <td>Not Verified |   We travel extensively over 25...</td>\n",
       "      <td>9</td>\n",
       "      <td>18th June 2024</td>\n",
       "      <td>(United Kingdom)</td>\n",
       "    </tr>\n",
       "    <tr>\n",
       "      <th>3</th>\n",
       "      <td>✅ Trip Verified |  Flight delayed an hour due ...</td>\n",
       "      <td>2</td>\n",
       "      <td>17th June 2024</td>\n",
       "      <td>(United Kingdom)</td>\n",
       "    </tr>\n",
       "    <tr>\n",
       "      <th>4</th>\n",
       "      <td>✅ Trip Verified |  A very full flight made Pre...</td>\n",
       "      <td>8</td>\n",
       "      <td>17th June 2024</td>\n",
       "      <td>(United Kingdom)</td>\n",
       "    </tr>\n",
       "  </tbody>\n",
       "</table>\n",
       "</div>"
      ],
      "text/plain": [
       "                                             reviews  \\\n",
       "0  ✅ Trip Verified | British Airways new Club Sui...   \n",
       "1  ✅ Trip Verified |  Four very pleasant, on time...   \n",
       "2  Not Verified |   We travel extensively over 25...   \n",
       "3  ✅ Trip Verified |  Flight delayed an hour due ...   \n",
       "4  ✅ Trip Verified |  A very full flight made Pre...   \n",
       "\n",
       "                           Stars            date             country  \n",
       "0  \\n\\t\\t\\t\\t\\t\\t\\t\\t\\t\\t\\t\\t\\t5  23rd June 2024           (Canada)   \n",
       "1                              5  18th June 2024   (United Kingdom)   \n",
       "2                              9  18th June 2024   (United Kingdom)   \n",
       "3                              2  17th June 2024   (United Kingdom)   \n",
       "4                              8  17th June 2024   (United Kingdom)   "
      ]
     },
     "execution_count": 39,
     "metadata": {},
     "output_type": "execute_result"
    }
   ],
   "source": [
    "df.head()"
   ]
  },
  {
   "cell_type": "code",
   "execution_count": 34,
   "id": "ef00d6f5-ec55-44a8-9eb4-d1c2a19d3fb7",
   "metadata": {},
   "outputs": [
    {
     "data": {
      "text/plain": [
       "(7000, 3)"
      ]
     },
     "execution_count": 34,
     "metadata": {},
     "output_type": "execute_result"
    }
   ],
   "source": [
    "df.shape"
   ]
  },
  {
   "cell_type": "code",
   "execution_count": 40,
   "id": "ca2d1a8a-1ea8-47d3-8527-e397ecf0a7ce",
   "metadata": {},
   "outputs": [],
   "source": [
    "# export data into csv format\n",
    "df.to_csv('BA_reviews.csv')\n"
   ]
  },
  {
   "cell_type": "code",
   "execution_count": 41,
   "id": "eafbde04-2e2b-4be6-9fa4-ab3d3a7d3ad7",
   "metadata": {},
   "outputs": [],
   "source": []
  },
  {
   "cell_type": "code",
   "execution_count": null,
   "id": "2f84c634-c6de-4610-b940-4efbc9275c15",
   "metadata": {},
   "outputs": [],
   "source": []
  }
 ],
 "metadata": {
  "kernelspec": {
   "display_name": "Python 3 (ipykernel)",
   "language": "python",
   "name": "python3"
  },
  "language_info": {
   "codemirror_mode": {
    "name": "ipython",
    "version": 3
   },
   "file_extension": ".py",
   "mimetype": "text/x-python",
   "name": "python",
   "nbconvert_exporter": "python",
   "pygments_lexer": "ipython3",
   "version": "3.11.5"
  }
 },
 "nbformat": 4,
 "nbformat_minor": 5
}
